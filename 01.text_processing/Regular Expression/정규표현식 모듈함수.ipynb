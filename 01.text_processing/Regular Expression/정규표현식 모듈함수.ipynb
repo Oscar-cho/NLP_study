{
 "cells": [
  {
   "cell_type": "markdown",
   "metadata": {},
   "source": [
    "# 정규 표현식 모듈 함수"
   ]
  },
  {
   "cell_type": "code",
   "execution_count": 2,
   "metadata": {},
   "outputs": [],
   "source": [
    "import re"
   ]
  },
  {
   "cell_type": "markdown",
   "metadata": {},
   "source": [
    "## 1) re.match() 와 re.search()의 차이\n",
    "\n",
    "search() -> 정규 표현식 전체에 대해서 문자열이 매치하는지 확인\\\n",
    "match() -> 문자열의 첫 부분부터 정규 표현식과 매치하는지 확인\\\n",
    "\n",
    "문자열 중간에 찾을 패턴이 있더라도 match는 문자열의 시작에서 패턴이 같지 않으면 찾지 않는다."
   ]
  },
  {
   "cell_type": "code",
   "execution_count": 3,
   "metadata": {},
   "outputs": [],
   "source": [
    "r = re.compile(\"ab.\")\n",
    "\n",
    "r.match(\"kkkabc\")\n",
    "# match를 썼으니 문자열 시작이 같지 않아서 아무 결과도 출력되지 않는다."
   ]
  },
  {
   "cell_type": "code",
   "execution_count": 4,
   "metadata": {},
   "outputs": [
    {
     "data": {
      "text/plain": [
       "<re.Match object; span=(3, 6), match='abc'>"
      ]
     },
     "execution_count": 4,
     "metadata": {},
     "output_type": "execute_result"
    }
   ],
   "source": [
    "r.search(\"kkkabc\")"
   ]
  },
  {
   "cell_type": "code",
   "execution_count": 5,
   "metadata": {},
   "outputs": [
    {
     "data": {
      "text/plain": [
       "<re.Match object; span=(0, 3), match='abc'>"
      ]
     },
     "execution_count": 5,
     "metadata": {},
     "output_type": "execute_result"
    }
   ],
   "source": [
    "r.match(\"abckkk\")"
   ]
  },
  {
   "cell_type": "markdown",
   "metadata": {},
   "source": [
    " 위의 경우 정규 표현식이 ab.이므로 ab 다음 어떠한 문자가 올 수 있다는 것을 의미\\\n",
    " search 모듈 함수에서는 kkkabc라는 문자열을 넣어 매치되는지 확인한다면 abc라는 문자열에ㅓㅅ 매치되어 Match object를 리턴\\\n",
    " match 모듈 함수의 경우 앞 부분이 ab.와 매치되지 않아 아무 결과도 출력 x\\\n",
    " abckkk로 매치 시도 해보면, 시작 부분에서 패턴과 매치되었기 때문에 match object를 정상적으로 return."
   ]
  },
  {
   "cell_type": "markdown",
   "metadata": {},
   "source": [
    "## 2) re.split()\n",
    "\n",
    "split 함수는 입력된 정규 표현식을 기준으로 문자열들을 분리하여 리스트로 return\\\n",
    "token화에 유용하게 쓰일 수 있다.\\\n",
    "공백을 기준으로 문자열 분리를 수행 & list를 결과로 return"
   ]
  },
  {
   "cell_type": "code",
   "execution_count": 7,
   "metadata": {},
   "outputs": [
    {
     "data": {
      "text/plain": [
       "['사과', '딸기', '수박', '메론', '바나나']"
      ]
     },
     "execution_count": 7,
     "metadata": {},
     "output_type": "execute_result"
    }
   ],
   "source": [
    "# 공백을 기준으로 분리\n",
    "\n",
    "text = \"사과 딸기 수박 메론 바나나\"\n",
    "re.split(\" \", text)"
   ]
  },
  {
   "cell_type": "markdown",
   "metadata": {},
   "source": [
    "유사하게 줄바꿈이나 다른 정규 표현식을 기준으로 텍스트 분리가 가능하다."
   ]
  },
  {
   "cell_type": "code",
   "execution_count": 8,
   "metadata": {},
   "outputs": [
    {
     "data": {
      "text/plain": [
       "['사과', '딸기', '수박', '메론', '바나나']"
      ]
     },
     "execution_count": 8,
     "metadata": {},
     "output_type": "execute_result"
    }
   ],
   "source": [
    "# 줄바꿈 기준으로 분리\n",
    "\n",
    "text = \"\"\"사과\n",
    "딸기\n",
    "수박\n",
    "메론\n",
    "바나나\"\"\"\n",
    "\n",
    "re.split(\"\\n\", text)"
   ]
  },
  {
   "cell_type": "code",
   "execution_count": 10,
   "metadata": {},
   "outputs": [
    {
     "data": {
      "text/plain": [
       "['사과', '딸기', '수박', '메론', '바나나']"
      ]
     },
     "execution_count": 10,
     "metadata": {},
     "output_type": "execute_result"
    }
   ],
   "source": [
    "# '+'를 기준으로 분리\n",
    "text = \"사과+딸기+수박+메론+바나나\"\n",
    "\n",
    "re.split(\"\\+\", text)"
   ]
  },
  {
   "cell_type": "markdown",
   "metadata": {},
   "source": [
    "## 3) re.findall()\n",
    "\n",
    "findall() 함수는 정규 표현식과 매치되는 모든 문자열들을 list로 return.\\\n",
    "단, 매치되는 문자열이 없는 경우 빈 list를 return\\\n",
    "임의의 text에 정규 표현식으로 숫자를 의미하는 규칙으로 findall()을 수행하면 전체 text로 부터 숫자만 찾아내고 list로 return"
   ]
  },
  {
   "cell_type": "code",
   "execution_count": 12,
   "metadata": {},
   "outputs": [
    {
     "data": {
      "text/plain": [
       "['010', '1234', '3333', '30']"
      ]
     },
     "execution_count": 12,
     "metadata": {},
     "output_type": "execute_result"
    }
   ],
   "source": [
    "text = \"\"\"이름: 김철수\n",
    "전화번호 : 010 - 1234 - 3333\n",
    "나이: 30\n",
    "성별 : 남\n",
    "\"\"\"\n",
    "\n",
    "re.findall(\"\\d+\", text)"
   ]
  },
  {
   "cell_type": "markdown",
   "metadata": {},
   "source": [
    "하지만 만약 입력 text에 숫자가 없다면 빈 list를 return"
   ]
  },
  {
   "cell_type": "code",
   "execution_count": 13,
   "metadata": {},
   "outputs": [
    {
     "data": {
      "text/plain": [
       "[]"
      ]
     },
     "execution_count": 13,
     "metadata": {},
     "output_type": "execute_result"
    }
   ],
   "source": [
    "re.findall(\"\\d+\", \"문자열입니다\")"
   ]
  },
  {
   "cell_type": "markdown",
   "metadata": {},
   "source": [
    "## 4) re.sub()\n",
    "\n",
    "sub() 함수는 정규 표현식 패턴과 일치하는 문자열을 찾아 다른 문자열로 대체할 수 있다.\\\n",
    "정제 작업에 많이 사용되는데, 영어 문장에 각주 등과 같은 이유로 특수 문자가 섞여 있는 경우에 특수 문자를 제거하고 싶다면 알파벳 외의 문자는 공백으로 처리하는 등의 용도로 쓸 수 있다"
   ]
  },
  {
   "cell_type": "code",
   "execution_count": 15,
   "metadata": {},
   "outputs": [
    {
     "name": "stdout",
     "output_type": "stream",
     "text": [
      "Regular expression  A regular expression  regex or regexp     sometimes called a rational expression        is  in theoretical computer science        and formal language theory  a sequence of characters that define a search pattern \n"
     ]
    }
   ],
   "source": [
    "text = \"Regular expression: A regular expression, regex or regexp[1] (sometimes called a rational expression)[2][3] is, in theoretical computer science\\\n",
    "        and formal language theory, a sequence of characters that define a search pattern.\"\n",
    "        \n",
    "preprocessed_text = re.sub('[^a-zA-Z]', ' ', text)\n",
    "print(preprocessed_text)"
   ]
  }
 ],
 "metadata": {
  "kernelspec": {
   "display_name": "Python 3",
   "language": "python",
   "name": "python3"
  },
  "language_info": {
   "codemirror_mode": {
    "name": "ipython",
    "version": 3
   },
   "file_extension": ".py",
   "mimetype": "text/x-python",
   "name": "python",
   "nbconvert_exporter": "python",
   "pygments_lexer": "ipython3",
   "version": "3.9.13"
  }
 },
 "nbformat": 4,
 "nbformat_minor": 2
}
