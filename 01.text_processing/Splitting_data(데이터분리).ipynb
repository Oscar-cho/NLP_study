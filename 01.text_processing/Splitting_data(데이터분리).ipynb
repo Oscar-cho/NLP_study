{
 "cells": [
  {
   "cell_type": "markdown",
   "metadata": {},
   "source": [
    "# Splitting Data"
   ]
  },
  {
   "cell_type": "code",
   "execution_count": 5,
   "metadata": {},
   "outputs": [],
   "source": [
    "import pandas as pd\n",
    "import numpy as np\n",
    "from sklearn.model_selection import train_test_split"
   ]
  },
  {
   "cell_type": "markdown",
   "metadata": {},
   "source": [
    "## 1. 지도 학습\n",
    "\n",
    "train data를 통해 문제와 정답을 통해 연관성을 학습\\\n",
    "test data를 통해 문제를 풀고 정답을 맞춰봄\\\n",
    "실제 정답과의 정확성(accuracy)를 확인"
   ]
  },
  {
   "cell_type": "markdown",
   "metadata": {},
   "source": [
    "## 2. x와 y 분리"
   ]
  },
  {
   "cell_type": "markdown",
   "metadata": {},
   "source": [
    "### 1) zip 함수를 이용하여 분리\n",
    "\n",
    "zip() 함수는 동일한 개수를 가지는 sequence 자료형에서 각 순서에 등장하는 원소들끼리 묶어주는 역할을 한다\\\n",
    "list의 list 구성에서 zip 함수는 X와 y를 분리하는데 사용"
   ]
  },
  {
   "cell_type": "code",
   "execution_count": 7,
   "metadata": {},
   "outputs": [
    {
     "name": "stdout",
     "output_type": "stream",
     "text": [
      "X 데이터: ('a', 'b', 'c')\n",
      "y 데이터:  (1, 2, 3)\n"
     ]
    }
   ],
   "source": [
    "X, y = zip(['a',1],['b', 2], ['c', 3])\n",
    "print('X 데이터:' , X)\n",
    "print('y 데이터: ', y)"
   ]
  },
  {
   "cell_type": "markdown",
   "metadata": {},
   "source": [
    "각 data에서 첫번째로 등장한 원소들끼리 묶이고, 두번째로 등장한 원소들끼리 묶인 것을 확인 할 수 있다\\\n",
    "이를 각각 X data와 y data로 사용할 수 있다"
   ]
  },
  {
   "cell_type": "markdown",
   "metadata": {},
   "source": [
    "### 2) dataframe을 이용 "
   ]
  },
  {
   "cell_type": "code",
   "execution_count": 11,
   "metadata": {},
   "outputs": [
    {
     "data": {
      "text/html": [
       "<div>\n",
       "<style scoped>\n",
       "    .dataframe tbody tr th:only-of-type {\n",
       "        vertical-align: middle;\n",
       "    }\n",
       "\n",
       "    .dataframe tbody tr th {\n",
       "        vertical-align: top;\n",
       "    }\n",
       "\n",
       "    .dataframe thead th {\n",
       "        text-align: right;\n",
       "    }\n",
       "</style>\n",
       "<table border=\"1\" class=\"dataframe\">\n",
       "  <thead>\n",
       "    <tr style=\"text-align: right;\">\n",
       "      <th></th>\n",
       "      <th>메일 본문</th>\n",
       "      <th>스팸 메일 유무</th>\n",
       "    </tr>\n",
       "  </thead>\n",
       "  <tbody>\n",
       "    <tr>\n",
       "      <th>0</th>\n",
       "      <td>당신에게 드리는 마지막 혜택!</td>\n",
       "      <td>1</td>\n",
       "    </tr>\n",
       "    <tr>\n",
       "      <th>1</th>\n",
       "      <td>내일 뵐 수 있을지 확인 부탁드...</td>\n",
       "      <td>0</td>\n",
       "    </tr>\n",
       "    <tr>\n",
       "      <th>2</th>\n",
       "      <td>도연씨, 잘 지내시죠? 오랜만입...</td>\n",
       "      <td>0</td>\n",
       "    </tr>\n",
       "    <tr>\n",
       "      <th>3</th>\n",
       "      <td>(광고) AI로 주가를 예측할 수 있다!</td>\n",
       "      <td>1</td>\n",
       "    </tr>\n",
       "  </tbody>\n",
       "</table>\n",
       "</div>"
      ],
      "text/plain": [
       "                    메일 본문  스팸 메일 유무\n",
       "0        당신에게 드리는 마지막 혜택!         1\n",
       "1    내일 뵐 수 있을지 확인 부탁드...         0\n",
       "2    도연씨, 잘 지내시죠? 오랜만입...         0\n",
       "3  (광고) AI로 주가를 예측할 수 있다!         1"
      ]
     },
     "execution_count": 11,
     "metadata": {},
     "output_type": "execute_result"
    }
   ],
   "source": [
    "values = [['당신에게 드리는 마지막 혜택!',1],\n",
    "['내일 뵐 수 있을지 확인 부탁드...',0],\n",
    "['도연씨, 잘 지내시죠? 오랜만입...',0],\n",
    "['(광고) AI로 주가를 예측할 수 있다!',1]]\n",
    "\n",
    "columns = ['메일 본문', '스팸 메일 유무']\n",
    "\n",
    "df = pd.DataFrame(values, columns=columns)\n",
    "df "
   ]
  },
  {
   "cell_type": "markdown",
   "metadata": {},
   "source": [
    "Dataframe은 column의 이름으로 각 열에 접근이 가능하다.\\\n",
    "이를 이용하면 X data와 y data를 분리할 수 있다"
   ]
  },
  {
   "cell_type": "code",
   "execution_count": 12,
   "metadata": {},
   "outputs": [],
   "source": [
    "X = df['메일 본문']\n",
    "y = df['스팸 메일 유무']"
   ]
  },
  {
   "cell_type": "code",
   "execution_count": 14,
   "metadata": {},
   "outputs": [
    {
     "name": "stdout",
     "output_type": "stream",
     "text": [
      "X 데이터:  ['당신에게 드리는 마지막 혜택!', '내일 뵐 수 있을지 확인 부탁드...', '도연씨, 잘 지내시죠? 오랜만입...', '(광고) AI로 주가를 예측할 수 있다!']\n",
      "y 데이터:  [1, 0, 0, 1]\n"
     ]
    }
   ],
   "source": [
    "# X와 y data 출력\n",
    "\n",
    "print('X 데이터: ', X.to_list())\n",
    "print('y 데이터: ', y.to_list())"
   ]
  },
  {
   "cell_type": "markdown",
   "metadata": {},
   "source": [
    "### 3) Numpy를 이용해 분리\n",
    "\n",
    "임의의 data를 만들어서 Numpy의 slicing을 이용하여 data 분리"
   ]
  },
  {
   "cell_type": "code",
   "execution_count": 26,
   "metadata": {},
   "outputs": [
    {
     "name": "stdout",
     "output_type": "stream",
     "text": [
      "전체 데이터 :\n",
      "[[ 0  1  2  3]\n",
      " [ 4  5  6  7]\n",
      " [ 8  9 10 11]\n",
      " [12 13 14 15]]\n"
     ]
    }
   ],
   "source": [
    "np_array = np.arange(0,16).reshape((4,4))\n",
    "\n",
    "print('전체 데이터 :')\n",
    "print(np_array)"
   ]
  },
  {
   "cell_type": "code",
   "execution_count": 27,
   "metadata": {},
   "outputs": [
    {
     "name": "stdout",
     "output_type": "stream",
     "text": [
      "X 데이터 :\n",
      "[[ 0  1  2]\n",
      " [ 4  5  6]\n",
      " [ 8  9 10]\n",
      " [12 13 14]]\n",
      "y 데이터 : [ 3  7 11 15]\n"
     ]
    }
   ],
   "source": [
    "# 마지막 열을 제외하고 X 데이터에 저장. 마지막 열은 y 데이터에 저장\n",
    "\n",
    "X = np_array[:, :3]\n",
    "y = np_array[:,3]\n",
    "\n",
    "print('X 데이터 :')\n",
    "print(X)\n",
    "print('y 데이터 :', y)"
   ]
  },
  {
   "cell_type": "markdown",
   "metadata": {},
   "source": [
    "## 3. test data split(테스트 데이터 분리)\n",
    "\n",
    "이미 X와 y가 분리된 data에 대해서 test data를 분리하는 과정에 대해서 알아볼 것"
   ]
  },
  {
   "cell_type": "markdown",
   "metadata": {},
   "source": [
    "### 1) sci-kit learn을 이용하여 분리\n",
    "\n",
    "scikit learn은 train용 data와 test data를 분리하는 도구인 **train_test_split()** 을 지원\n"
   ]
  },
  {
   "cell_type": "code",
   "execution_count": 28,
   "metadata": {},
   "outputs": [],
   "source": [
    "X_train, X_test, y_train, y_test = train_test_split(X, y, test_size = 0.2, random_state  =1234)"
   ]
  },
  {
   "cell_type": "markdown",
   "metadata": {},
   "source": [
    "X: 독립 변수 data (array or dataframe)\\\n",
    "y: 종속 변수 data. Label data\\\n",
    "\n",
    "test_size: 테스트용 data 개수를 지정.1보다 작은 실수 -> 비율을 의미\\\n",
    "train_size: 학습용 data 개수를 지정. 1보다 작은 실수 -> 비율을 의미\n",
    "\n",
    "random_state: 난수 시드\n"
   ]
  },
  {
   "cell_type": "code",
   "execution_count": 29,
   "metadata": {},
   "outputs": [
    {
     "name": "stdout",
     "output_type": "stream",
     "text": [
      "X의 전체 데이터: \n",
      "[[0 1]\n",
      " [2 3]\n",
      " [4 5]\n",
      " [6 7]\n",
      " [8 9]]\n",
      "y의 전체 데이터: \n",
      "[0, 1, 2, 3, 4]\n"
     ]
    }
   ],
   "source": [
    "# 임의로 X data와 y data를 생성\n",
    "\n",
    "X, y = np.arange(10).reshape((5,2)), range(5)\n",
    "\n",
    "print('X의 전체 데이터: ')\n",
    "print(X)\n",
    "print('y의 전체 데이터: ')\n",
    "print(list(y))"
   ]
  },
  {
   "cell_type": "markdown",
   "metadata": {},
   "source": [
    "train_test_split() -> 데이터의 순서를 섞고 나서 훈련 data와 test data를 분리\\\n",
    "만약 random_state의 값을 특정 숫자로 기재하고 다음에도 동일한 숫자로 기재 -> 항상 동일한 훈련 데이터와 테스트 데이터를 얻을 수 있다\\\n",
    "하지만 값을 변경하면 이전과 다른 train data와 test data를 얻는다\n",
    "\n",
    "**즉 random_state가 다르다면 데이터가 다른 순서로 섞였다는 의미** \\\n",
    "\\\n",
    "**random_state의 값을 고정해두면 실행할 때마다 동일한 순서로 데이터를 섞으므로 동일한 코드를 다음에 재현할 때 사용할 수 있다**"
   ]
  },
  {
   "cell_type": "markdown",
   "metadata": {},
   "source": [
    "### 2) 수동으로 분리\n",
    "\n",
    "data를 분리하는 방법 중 하나는 수동으로 분리하는 것.\\\n",
    "임의로 x 데이터와 y 데이터를 만들어 볼 것"
   ]
  },
  {
   "cell_type": "code",
   "execution_count": 6,
   "metadata": {},
   "outputs": [
    {
     "name": "stdout",
     "output_type": "stream",
     "text": [
      "X 전체 데이터\n",
      "[[ 0  1]\n",
      " [ 2  3]\n",
      " [ 4  5]\n",
      " [ 6  7]\n",
      " [ 8  9]\n",
      " [10 11]\n",
      " [12 13]\n",
      " [14 15]\n",
      " [16 17]\n",
      " [18 19]\n",
      " [20 21]\n",
      " [22 23]]\n",
      "y 전체 데이터\n",
      "[0, 1, 2, 3, 4, 5, 6, 7, 8, 9, 10, 11]\n"
     ]
    }
   ],
   "source": [
    "# 임의로 x와 y가 이미 분리된 데이터를 생성\n",
    "\n",
    "X,y = np.arange(0,24).reshape((12,2)), range(12)\n",
    "\n",
    "print('X 전체 데이터')\n",
    "print(X)\n",
    "print('y 전체 데이터')\n",
    "print(list(y))"
   ]
  },
  {
   "cell_type": "markdown",
   "metadata": {},
   "source": [
    "train 데이터의 개수와 test 데이터의 개수를 정할 것\\\n",
    "\\\n",
    "num_of_train : train data의 개수\\\n",
    "num_of_test : test data의 개수\n"
   ]
  },
  {
   "cell_type": "code",
   "execution_count": 7,
   "metadata": {},
   "outputs": [
    {
     "name": "stdout",
     "output_type": "stream",
     "text": [
      "훈련 데이터의 크기:  9\n",
      "테스트 데이터의 크기 :  3\n"
     ]
    }
   ],
   "source": [
    "num_of_train = int(len(X) * 0.8)    # 데이터의 전체 길이의 80%에 해당하는 길이의 값을 구한다\n",
    "num_of_test = int(len(X) - num_of_train)    # 전체 길이에서 80%에 해당하는 길이를 뺌\n",
    "\n",
    "print('훈련 데이터의 크기: ', num_of_train)\n",
    "print('테스트 데이터의 크기 : ', num_of_test)"
   ]
  },
  {
   "cell_type": "markdown",
   "metadata": {},
   "source": [
    "**유의점!** \\\n",
    "\\\n",
    "아직 훈련 데이터와 테스트 데이터를 나눈 것이 아니라 이 두 개의 개수를 몇 개로 할지 정하기만 한 상태\\\n",
    "=> num_of_test를 len(X) * 0.2로 계산하면 안된다(데이터의 누락이 발생할 수 있음)\\\n",
    "\\\n",
    "ex) 전체 데이터 개수를 4,518이라 할 때, 4,518의 80%는 3614.4로 소수점이 발생 -> 소수점 제거시 3614\\\n",
    "4,518의 20%는 903.6 -> 소수점 내리면 903\n",
    "\n",
    "이 둘의 합은 4517으로 1개의 data가 누락됨\n",
    "\n",
    "**어느 한 쪽을 먼저 계산하고 그 값만큼을 제외하는 방식으로 계산하면 누락된 data를 막을 수 있다**\n"
   ]
  },
  {
   "cell_type": "code",
   "execution_count": 9,
   "metadata": {},
   "outputs": [],
   "source": [
    "X_test = X[num_of_train:]   # 전체 data에서 20%만큼 뒤의 데이터를 저장\n",
    "y_test = y[num_of_train:]   # 전체 data에서 20%만큼 뒤의 데이터를 저장\n",
    "X_train = X[:num_of_train]  # 전체 data에서 80%만큼 앞의 데이터를 저장\n",
    "y_train = y[:num_of_train]  # 전체 data에서 80%만큼 앞의 데이터를 저장"
   ]
  },
  {
   "cell_type": "markdown",
   "metadata": {},
   "source": [
    "**데이터를 나눌때에는 하나의 변수만 사용하면 데이터의 누락을 방지할 수 있다** \\\n",
    "\\\n",
    "앞에서 구한 데이터의 개수만큼 훈련 데이터와 테스트 데이터를 분할한다.\\\n",
    "테스트 데이터를 출력하여 정상적으로 분리되었는지 확인한다."
   ]
  },
  {
   "cell_type": "code",
   "execution_count": 10,
   "metadata": {},
   "outputs": [
    {
     "name": "stdout",
     "output_type": "stream",
     "text": [
      "X 테스트 데이터 :\n",
      "[[18 19]\n",
      " [20 21]\n",
      " [22 23]]\n",
      "y 테스트 데이터 :\n",
      "[9, 10, 11]\n"
     ]
    }
   ],
   "source": [
    "print('X 테스트 데이터 :')\n",
    "print(X_test)\n",
    "print('y 테스트 데이터 :')\n",
    "print(list(y_test))"
   ]
  }
 ],
 "metadata": {
  "kernelspec": {
   "display_name": "Python 3",
   "language": "python",
   "name": "python3"
  },
  "language_info": {
   "codemirror_mode": {
    "name": "ipython",
    "version": 3
   },
   "file_extension": ".py",
   "mimetype": "text/x-python",
   "name": "python",
   "nbconvert_exporter": "python",
   "pygments_lexer": "ipython3",
   "version": "3.9.13"
  }
 },
 "nbformat": 4,
 "nbformat_minor": 2
}
