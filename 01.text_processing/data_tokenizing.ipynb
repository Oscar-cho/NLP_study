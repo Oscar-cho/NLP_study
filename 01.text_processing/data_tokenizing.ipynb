{
 "cells": [
  {
   "cell_type": "code",
   "execution_count": 1,
   "metadata": {},
   "outputs": [],
   "source": [
    "from nltk.tokenize import word_tokenize\n",
    "from nltk.tokenize import WordPunctTokenizer\n",
    "from nltk.tokenize import TreebankWordDetokenizer\n",
    "from nltk.tokenize import sent_tokenize\n",
    "from tensorflow.keras.preprocessing.text import text_to_word_sequence"
   ]
  },
  {
   "cell_type": "code",
   "execution_count": 2,
   "metadata": {},
   "outputs": [],
   "source": [
    "tokenizer = TreebankWordDetokenizer()"
   ]
  },
  {
   "cell_type": "code",
   "execution_count": 3,
   "metadata": {},
   "outputs": [
    {
     "name": "stdout",
     "output_type": "stream",
     "text": [
      "단어 토큰화 1 :  ['Do', \"n't\", 'be', 'fooled', 'by', 'the', 'dark', 'sounding', 'name', ',', 'Mr.Jone', \"'s\", 'Orphange', 'is', 'as', 'cheery', 'as', 'cheery', 'goes', 'for', 'a', 'pastry', 'shop', '.']\n",
      "단어 토근화 2:  ['Don', \"'\", 't', 'be', 'fooled', 'by', 'the', 'dark', 'sounding', 'name', ',', 'Mr', '.', 'Jone', \"'\", 's', 'Orphange', 'is', 'as', 'cheery', 'as', 'cheery', 'goes', 'for', 'a', 'pastry', 'shop', '.']\n",
      "단어 토큰화 3:  [\"don't\", 'be', 'fooled', 'by', 'the', 'dark', 'sounding', 'name', 'mr', \"jone's\", 'orphange', 'is', 'as', 'cheery', 'as', 'cheery', 'goes', 'for', 'a', 'pastry', 'shop']\n"
     ]
    }
   ],
   "source": [
    "print('단어 토큰화 1 : ', word_tokenize(\"Don't be fooled by the dark sounding name, \\\n",
    "                                        Mr.Jone's Orphange is as cheery as cheery goes for a pastry shop.\"))\n",
    "\n",
    "print('단어 토근화 2: ', WordPunctTokenizer().tokenize(\"Don't be fooled by the dark sounding name, \\\n",
    "                                                    Mr.Jone's Orphange is as cheery as cheery goes for a pastry shop.\"))\n",
    "\n",
    "print('단어 토큰화 3: ', text_to_word_sequence(\"Don't be fooled by the dark sounding name, \\\n",
    "                                                Mr.Jone's Orphange is as cheery as cheery goes for a pastry shop.\"))"
   ]
  },
  {
   "cell_type": "code",
   "execution_count": 4,
   "metadata": {},
   "outputs": [
    {
     "name": "stdout",
     "output_type": "stream",
     "text": [
      "트리뱅크 워드토크나이저 :  S t a r t i n g   a   h o m e - b a s e d   r e s t a u r a n t   m a y   b e   a n   i d e a l . i t   d o e s n' t   h a v e   a   f o o d   c h a i n   o r   r e s t a u r a n t   o f   t h e i r   o w n\n"
     ]
    }
   ],
   "source": [
    "text1 = \"Starting a home-based restaurant may be an ideal.it doesn't have a food chain or restaurant of their own.\"\n",
    "\n",
    "print('트리뱅크 워드토크나이저 : ', tokenizer.tokenize(text1))"
   ]
  },
  {
   "cell_type": "code",
   "execution_count": 6,
   "metadata": {},
   "outputs": [
    {
     "name": "stdout",
     "output_type": "stream",
     "text": [
      "문장 토큰화1 : ['His barber kept his word.', 'But keeping such a huge secret to himself was driving him crazy.', 'Finally, the barber went up a mountain and almost to the edge of a cliff.', 'He dug a hole in the midst of some reeds.He looked about, to make sure no one was near']\n"
     ]
    }
   ],
   "source": [
    "text2 = \"His barber kept his word. But keeping such a huge secret to himself was driving him crazy.\\\n",
    "        Finally, the barber went up a mountain and almost to the edge of a cliff.\\\n",
    "        He dug a hole in the midst of some reeds.He looked about, to make sure no one was near\"\n",
    "\n",
    "print('문장 토큰화1 :', sent_tokenize(text2))"
   ]
  },
  {
   "cell_type": "code",
   "execution_count": 7,
   "metadata": {},
   "outputs": [
    {
     "name": "stdout",
     "output_type": "stream",
     "text": [
      "문장 토큰화2 : ['I am actively looking for Ph.D. students.and you are a Ph.D student.']\n"
     ]
    }
   ],
   "source": [
    "text3 = \"I am actively looking for Ph.D. students.and you are a Ph.D student.\"\n",
    "print('문장 토큰화2 :', sent_tokenize(text3))"
   ]
  }
 ],
 "metadata": {
  "kernelspec": {
   "display_name": "Python 3",
   "language": "python",
   "name": "python3"
  },
  "language_info": {
   "codemirror_mode": {
    "name": "ipython",
    "version": 3
   },
   "file_extension": ".py",
   "mimetype": "text/x-python",
   "name": "python",
   "nbconvert_exporter": "python",
   "pygments_lexer": "ipython3",
   "version": "3.10.9"
  },
  "orig_nbformat": 4
 },
 "nbformat": 4,
 "nbformat_minor": 2
}
